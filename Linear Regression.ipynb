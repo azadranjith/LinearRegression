{
 "cells": [
  {
   "cell_type": "markdown",
   "id": "b6e755c0",
   "metadata": {},
   "source": [
    "# LINEAR REGRESSION\n",
    "\n",
    "    1. Linear Regression is used to predict the future observations based on information of the past\n",
    "    \n",
    "    2. We can use Linear Regression to answer how an each independent variable like *gender,city* \n",
    "        can infulence the dependent variable *salary*\n",
    "        \n",
    "        "
   ]
  },
  {
   "cell_type": "markdown",
   "id": "27051203",
   "metadata": {},
   "source": [
    "## The E-commerce company that sells clothing online is trying to decide whether to focus its efforts on its mobile app experience or its website based on the spent amount"
   ]
  },
  {
   "cell_type": "markdown",
   "id": "4aae4760",
   "metadata": {},
   "source": [
    "1. Read the dataset as a pandas dataset.\n",
    "2. Do some primary analysis on that by using head, info, describe etc.\n",
    "3. Plot the graphs.\n",
    "4. Start with scikit learn and separate x and y.\n",
    "5. Let y be Amount spent.\n",
    "6. Split to test and train datasets..\n",
    "7. Train the model and predict with test data.\n",
    "8. Find MAE, MSE, RMSE.\n"
   ]
  },
  {
   "cell_type": "markdown",
   "id": "5e2bda8d",
   "metadata": {},
   "source": [
    "MULTI-VARIENT Linear Regression"
   ]
  },
  {
   "cell_type": "code",
   "execution_count": 1,
   "id": "480d8718",
   "metadata": {},
   "outputs": [],
   "source": [
    "import pandas as pd\n"
   ]
  },
  {
   "cell_type": "code",
   "execution_count": 2,
   "id": "876cb9a1",
   "metadata": {},
   "outputs": [],
   "source": [
    "# reading the csv file as DataFrame\n",
    "df = pd.read_csv('Linear Regression_ Problem Data Set.txt')"
   ]
  },
  {
   "cell_type": "code",
   "execution_count": 3,
   "id": "44e33033",
   "metadata": {},
   "outputs": [
    {
     "data": {
      "text/html": [
       "<div>\n",
       "<style scoped>\n",
       "    .dataframe tbody tr th:only-of-type {\n",
       "        vertical-align: middle;\n",
       "    }\n",
       "\n",
       "    .dataframe tbody tr th {\n",
       "        vertical-align: top;\n",
       "    }\n",
       "\n",
       "    .dataframe thead th {\n",
       "        text-align: right;\n",
       "    }\n",
       "</style>\n",
       "<table border=\"1\" class=\"dataframe\">\n",
       "  <thead>\n",
       "    <tr style=\"text-align: right;\">\n",
       "      <th></th>\n",
       "      <th>Email</th>\n",
       "      <th>Address</th>\n",
       "      <th>Avatar</th>\n",
       "      <th>Avg. Session Length</th>\n",
       "      <th>Time on App</th>\n",
       "      <th>Time on Website</th>\n",
       "      <th>Length of Membership</th>\n",
       "      <th>Yearly Amount Spent</th>\n",
       "    </tr>\n",
       "  </thead>\n",
       "  <tbody>\n",
       "    <tr>\n",
       "      <th>0</th>\n",
       "      <td>mstephenson@fernandez.com</td>\n",
       "      <td>835 Frank Tunnel\\r\\nWrightmouth, MI 82180-9605</td>\n",
       "      <td>Violet</td>\n",
       "      <td>34.497268</td>\n",
       "      <td>12.655651</td>\n",
       "      <td>39.577668</td>\n",
       "      <td>4.082621</td>\n",
       "      <td>587.951054</td>\n",
       "    </tr>\n",
       "    <tr>\n",
       "      <th>1</th>\n",
       "      <td>hduke@hotmail.com</td>\n",
       "      <td>4547 Archer Common\\r\\nDiazchester, CA 06566-8576</td>\n",
       "      <td>DarkGreen</td>\n",
       "      <td>31.926272</td>\n",
       "      <td>11.109461</td>\n",
       "      <td>37.268959</td>\n",
       "      <td>2.664034</td>\n",
       "      <td>392.204933</td>\n",
       "    </tr>\n",
       "    <tr>\n",
       "      <th>2</th>\n",
       "      <td>pallen@yahoo.com</td>\n",
       "      <td>24645 Valerie Unions Suite 582\\r\\nCobbborough,...</td>\n",
       "      <td>Bisque</td>\n",
       "      <td>33.000915</td>\n",
       "      <td>11.330278</td>\n",
       "      <td>37.110597</td>\n",
       "      <td>4.104543</td>\n",
       "      <td>487.547505</td>\n",
       "    </tr>\n",
       "    <tr>\n",
       "      <th>3</th>\n",
       "      <td>riverarebecca@gmail.com</td>\n",
       "      <td>1414 David Throughway\\r\\nPort Jason, OH 22070-...</td>\n",
       "      <td>SaddleBrown</td>\n",
       "      <td>34.305557</td>\n",
       "      <td>13.717514</td>\n",
       "      <td>36.721283</td>\n",
       "      <td>3.120179</td>\n",
       "      <td>581.852344</td>\n",
       "    </tr>\n",
       "    <tr>\n",
       "      <th>4</th>\n",
       "      <td>mstephens@davidson-herman.com</td>\n",
       "      <td>14023 Rodriguez Passage\\r\\nPort Jacobville, PR...</td>\n",
       "      <td>MediumAquaMarine</td>\n",
       "      <td>33.330673</td>\n",
       "      <td>12.795189</td>\n",
       "      <td>37.536653</td>\n",
       "      <td>4.446308</td>\n",
       "      <td>599.406092</td>\n",
       "    </tr>\n",
       "    <tr>\n",
       "      <th>...</th>\n",
       "      <td>...</td>\n",
       "      <td>...</td>\n",
       "      <td>...</td>\n",
       "      <td>...</td>\n",
       "      <td>...</td>\n",
       "      <td>...</td>\n",
       "      <td>...</td>\n",
       "      <td>...</td>\n",
       "    </tr>\n",
       "    <tr>\n",
       "      <th>495</th>\n",
       "      <td>lewisjessica@craig-evans.com</td>\n",
       "      <td>4483 Jones Motorway Suite 872\\r\\nLake Jamiefur...</td>\n",
       "      <td>Tan</td>\n",
       "      <td>33.237660</td>\n",
       "      <td>13.566160</td>\n",
       "      <td>36.417985</td>\n",
       "      <td>3.746573</td>\n",
       "      <td>573.847438</td>\n",
       "    </tr>\n",
       "    <tr>\n",
       "      <th>496</th>\n",
       "      <td>katrina56@gmail.com</td>\n",
       "      <td>172 Owen Divide Suite 497\\r\\nWest Richard, CA ...</td>\n",
       "      <td>PaleVioletRed</td>\n",
       "      <td>34.702529</td>\n",
       "      <td>11.695736</td>\n",
       "      <td>37.190268</td>\n",
       "      <td>3.576526</td>\n",
       "      <td>529.049004</td>\n",
       "    </tr>\n",
       "    <tr>\n",
       "      <th>497</th>\n",
       "      <td>dale88@hotmail.com</td>\n",
       "      <td>0787 Andrews Ranch Apt. 633\\r\\nSouth Chadburgh...</td>\n",
       "      <td>Cornsilk</td>\n",
       "      <td>32.646777</td>\n",
       "      <td>11.499409</td>\n",
       "      <td>38.332576</td>\n",
       "      <td>4.958264</td>\n",
       "      <td>551.620145</td>\n",
       "    </tr>\n",
       "    <tr>\n",
       "      <th>498</th>\n",
       "      <td>cwilson@hotmail.com</td>\n",
       "      <td>680 Jennifer Lodge Apt. 808\\r\\nBrendachester, ...</td>\n",
       "      <td>Teal</td>\n",
       "      <td>33.322501</td>\n",
       "      <td>12.391423</td>\n",
       "      <td>36.840086</td>\n",
       "      <td>2.336485</td>\n",
       "      <td>456.469510</td>\n",
       "    </tr>\n",
       "    <tr>\n",
       "      <th>499</th>\n",
       "      <td>hannahwilson@davidson.com</td>\n",
       "      <td>49791 Rachel Heights Apt. 898\\r\\nEast Drewboro...</td>\n",
       "      <td>DarkMagenta</td>\n",
       "      <td>33.715981</td>\n",
       "      <td>12.418808</td>\n",
       "      <td>35.771016</td>\n",
       "      <td>2.735160</td>\n",
       "      <td>497.778642</td>\n",
       "    </tr>\n",
       "  </tbody>\n",
       "</table>\n",
       "<p>500 rows × 8 columns</p>\n",
       "</div>"
      ],
      "text/plain": [
       "                             Email  \\\n",
       "0        mstephenson@fernandez.com   \n",
       "1                hduke@hotmail.com   \n",
       "2                 pallen@yahoo.com   \n",
       "3          riverarebecca@gmail.com   \n",
       "4    mstephens@davidson-herman.com   \n",
       "..                             ...   \n",
       "495   lewisjessica@craig-evans.com   \n",
       "496            katrina56@gmail.com   \n",
       "497             dale88@hotmail.com   \n",
       "498            cwilson@hotmail.com   \n",
       "499      hannahwilson@davidson.com   \n",
       "\n",
       "                                               Address            Avatar  \\\n",
       "0       835 Frank Tunnel\\r\\nWrightmouth, MI 82180-9605            Violet   \n",
       "1     4547 Archer Common\\r\\nDiazchester, CA 06566-8576         DarkGreen   \n",
       "2    24645 Valerie Unions Suite 582\\r\\nCobbborough,...            Bisque   \n",
       "3    1414 David Throughway\\r\\nPort Jason, OH 22070-...       SaddleBrown   \n",
       "4    14023 Rodriguez Passage\\r\\nPort Jacobville, PR...  MediumAquaMarine   \n",
       "..                                                 ...               ...   \n",
       "495  4483 Jones Motorway Suite 872\\r\\nLake Jamiefur...               Tan   \n",
       "496  172 Owen Divide Suite 497\\r\\nWest Richard, CA ...     PaleVioletRed   \n",
       "497  0787 Andrews Ranch Apt. 633\\r\\nSouth Chadburgh...          Cornsilk   \n",
       "498  680 Jennifer Lodge Apt. 808\\r\\nBrendachester, ...              Teal   \n",
       "499  49791 Rachel Heights Apt. 898\\r\\nEast Drewboro...       DarkMagenta   \n",
       "\n",
       "     Avg. Session Length  Time on App  Time on Website  Length of Membership  \\\n",
       "0              34.497268    12.655651        39.577668              4.082621   \n",
       "1              31.926272    11.109461        37.268959              2.664034   \n",
       "2              33.000915    11.330278        37.110597              4.104543   \n",
       "3              34.305557    13.717514        36.721283              3.120179   \n",
       "4              33.330673    12.795189        37.536653              4.446308   \n",
       "..                   ...          ...              ...                   ...   \n",
       "495            33.237660    13.566160        36.417985              3.746573   \n",
       "496            34.702529    11.695736        37.190268              3.576526   \n",
       "497            32.646777    11.499409        38.332576              4.958264   \n",
       "498            33.322501    12.391423        36.840086              2.336485   \n",
       "499            33.715981    12.418808        35.771016              2.735160   \n",
       "\n",
       "     Yearly Amount Spent  \n",
       "0             587.951054  \n",
       "1             392.204933  \n",
       "2             487.547505  \n",
       "3             581.852344  \n",
       "4             599.406092  \n",
       "..                   ...  \n",
       "495           573.847438  \n",
       "496           529.049004  \n",
       "497           551.620145  \n",
       "498           456.469510  \n",
       "499           497.778642  \n",
       "\n",
       "[500 rows x 8 columns]"
      ]
     },
     "execution_count": 3,
     "metadata": {},
     "output_type": "execute_result"
    }
   ],
   "source": [
    "df"
   ]
  },
  {
   "cell_type": "code",
   "execution_count": 4,
   "id": "06077b62",
   "metadata": {},
   "outputs": [
    {
     "data": {
      "text/html": [
       "<div>\n",
       "<style scoped>\n",
       "    .dataframe tbody tr th:only-of-type {\n",
       "        vertical-align: middle;\n",
       "    }\n",
       "\n",
       "    .dataframe tbody tr th {\n",
       "        vertical-align: top;\n",
       "    }\n",
       "\n",
       "    .dataframe thead th {\n",
       "        text-align: right;\n",
       "    }\n",
       "</style>\n",
       "<table border=\"1\" class=\"dataframe\">\n",
       "  <thead>\n",
       "    <tr style=\"text-align: right;\">\n",
       "      <th></th>\n",
       "      <th>Avg. Session Length</th>\n",
       "      <th>Time on App</th>\n",
       "      <th>Time on Website</th>\n",
       "      <th>Length of Membership</th>\n",
       "      <th>Yearly Amount Spent</th>\n",
       "    </tr>\n",
       "  </thead>\n",
       "  <tbody>\n",
       "    <tr>\n",
       "      <th>count</th>\n",
       "      <td>500.000000</td>\n",
       "      <td>500.000000</td>\n",
       "      <td>500.000000</td>\n",
       "      <td>500.000000</td>\n",
       "      <td>500.000000</td>\n",
       "    </tr>\n",
       "    <tr>\n",
       "      <th>mean</th>\n",
       "      <td>33.053194</td>\n",
       "      <td>12.052488</td>\n",
       "      <td>37.060445</td>\n",
       "      <td>3.533462</td>\n",
       "      <td>499.314038</td>\n",
       "    </tr>\n",
       "    <tr>\n",
       "      <th>std</th>\n",
       "      <td>0.992563</td>\n",
       "      <td>0.994216</td>\n",
       "      <td>1.010489</td>\n",
       "      <td>0.999278</td>\n",
       "      <td>79.314782</td>\n",
       "    </tr>\n",
       "    <tr>\n",
       "      <th>min</th>\n",
       "      <td>29.532429</td>\n",
       "      <td>8.508152</td>\n",
       "      <td>33.913847</td>\n",
       "      <td>0.269901</td>\n",
       "      <td>256.670582</td>\n",
       "    </tr>\n",
       "    <tr>\n",
       "      <th>25%</th>\n",
       "      <td>32.341822</td>\n",
       "      <td>11.388153</td>\n",
       "      <td>36.349257</td>\n",
       "      <td>2.930450</td>\n",
       "      <td>445.038277</td>\n",
       "    </tr>\n",
       "    <tr>\n",
       "      <th>50%</th>\n",
       "      <td>33.082008</td>\n",
       "      <td>11.983231</td>\n",
       "      <td>37.069367</td>\n",
       "      <td>3.533975</td>\n",
       "      <td>498.887875</td>\n",
       "    </tr>\n",
       "    <tr>\n",
       "      <th>75%</th>\n",
       "      <td>33.711985</td>\n",
       "      <td>12.753850</td>\n",
       "      <td>37.716432</td>\n",
       "      <td>4.126502</td>\n",
       "      <td>549.313828</td>\n",
       "    </tr>\n",
       "    <tr>\n",
       "      <th>max</th>\n",
       "      <td>36.139662</td>\n",
       "      <td>15.126994</td>\n",
       "      <td>40.005182</td>\n",
       "      <td>6.922689</td>\n",
       "      <td>765.518462</td>\n",
       "    </tr>\n",
       "  </tbody>\n",
       "</table>\n",
       "</div>"
      ],
      "text/plain": [
       "       Avg. Session Length  Time on App  Time on Website  \\\n",
       "count           500.000000   500.000000       500.000000   \n",
       "mean             33.053194    12.052488        37.060445   \n",
       "std               0.992563     0.994216         1.010489   \n",
       "min              29.532429     8.508152        33.913847   \n",
       "25%              32.341822    11.388153        36.349257   \n",
       "50%              33.082008    11.983231        37.069367   \n",
       "75%              33.711985    12.753850        37.716432   \n",
       "max              36.139662    15.126994        40.005182   \n",
       "\n",
       "       Length of Membership  Yearly Amount Spent  \n",
       "count            500.000000           500.000000  \n",
       "mean               3.533462           499.314038  \n",
       "std                0.999278            79.314782  \n",
       "min                0.269901           256.670582  \n",
       "25%                2.930450           445.038277  \n",
       "50%                3.533975           498.887875  \n",
       "75%                4.126502           549.313828  \n",
       "max                6.922689           765.518462  "
      ]
     },
     "execution_count": 4,
     "metadata": {},
     "output_type": "execute_result"
    }
   ],
   "source": [
    "# Analyzing the continous variables\n",
    "df.describe()\n"
   ]
  },
  {
   "cell_type": "code",
   "execution_count": 5,
   "id": "d431a6ea",
   "metadata": {},
   "outputs": [
    {
     "data": {
      "text/html": [
       "<div>\n",
       "<style scoped>\n",
       "    .dataframe tbody tr th:only-of-type {\n",
       "        vertical-align: middle;\n",
       "    }\n",
       "\n",
       "    .dataframe tbody tr th {\n",
       "        vertical-align: top;\n",
       "    }\n",
       "\n",
       "    .dataframe thead th {\n",
       "        text-align: right;\n",
       "    }\n",
       "</style>\n",
       "<table border=\"1\" class=\"dataframe\">\n",
       "  <thead>\n",
       "    <tr style=\"text-align: right;\">\n",
       "      <th></th>\n",
       "      <th>Email</th>\n",
       "      <th>Address</th>\n",
       "      <th>Avatar</th>\n",
       "    </tr>\n",
       "  </thead>\n",
       "  <tbody>\n",
       "    <tr>\n",
       "      <th>count</th>\n",
       "      <td>500</td>\n",
       "      <td>500</td>\n",
       "      <td>500</td>\n",
       "    </tr>\n",
       "    <tr>\n",
       "      <th>unique</th>\n",
       "      <td>500</td>\n",
       "      <td>500</td>\n",
       "      <td>138</td>\n",
       "    </tr>\n",
       "    <tr>\n",
       "      <th>top</th>\n",
       "      <td>mstephenson@fernandez.com</td>\n",
       "      <td>835 Frank Tunnel\\r\\nWrightmouth, MI 82180-9605</td>\n",
       "      <td>SlateBlue</td>\n",
       "    </tr>\n",
       "    <tr>\n",
       "      <th>freq</th>\n",
       "      <td>1</td>\n",
       "      <td>1</td>\n",
       "      <td>7</td>\n",
       "    </tr>\n",
       "  </tbody>\n",
       "</table>\n",
       "</div>"
      ],
      "text/plain": [
       "                            Email  \\\n",
       "count                         500   \n",
       "unique                        500   \n",
       "top     mstephenson@fernandez.com   \n",
       "freq                            1   \n",
       "\n",
       "                                               Address     Avatar  \n",
       "count                                              500        500  \n",
       "unique                                             500        138  \n",
       "top     835 Frank Tunnel\\r\\nWrightmouth, MI 82180-9605  SlateBlue  \n",
       "freq                                                 1          7  "
      ]
     },
     "execution_count": 5,
     "metadata": {},
     "output_type": "execute_result"
    }
   ],
   "source": [
    "# Analyzing the categorical variables\n",
    "df.describe(include='object')"
   ]
  },
  {
   "cell_type": "code",
   "execution_count": 89,
   "id": "8ac78b30",
   "metadata": {},
   "outputs": [
    {
     "data": {
      "text/plain": [
       "Email                   0\n",
       "Address                 0\n",
       "Avatar                  0\n",
       "Avg. Session Length     0\n",
       "Time on App             0\n",
       "Time on Website         0\n",
       "Length of Membership    0\n",
       "Yearly Amount Spent     0\n",
       "dtype: int64"
      ]
     },
     "execution_count": 89,
     "metadata": {},
     "output_type": "execute_result"
    }
   ],
   "source": [
    "#cheking for the missing values\n",
    "df.isna().sum()"
   ]
  },
  {
   "cell_type": "code",
   "execution_count": 6,
   "id": "1e29b27b",
   "metadata": {},
   "outputs": [],
   "source": [
    "# the Avatar has high cardinality\n",
    "# to convert categorical variables to numbers we can use,OneHotEncoder,LabelEncoder\n",
    "# from sklearn.preprocessing import OneHotEncoder,LabelEncoder\n",
    "# enc = LabelEncoder()\n",
    "# df['Avatar']=enc.fit_transform(df['Avatar'])\n",
    "# here we are not using Avatar to predict "
   ]
  },
  {
   "cell_type": "code",
   "execution_count": 7,
   "id": "51cb6326",
   "metadata": {},
   "outputs": [],
   "source": [
    "# plotting the graph of relation \n",
    "import matplotlib.pyplot as plt"
   ]
  },
  {
   "cell_type": "code",
   "execution_count": 8,
   "id": "7f22f983",
   "metadata": {},
   "outputs": [
    {
     "data": {
      "text/plain": [
       "<matplotlib.collections.PathCollection at 0x7fb08b4a5c40>"
      ]
     },
     "execution_count": 8,
     "metadata": {},
     "output_type": "execute_result"
    },
    {
     "data": {
      "image/png": "[encoded data removed]",
      "text/plain": [
       "<Figure size 432x288 with 1 Axes>"
      ]
     },
     "metadata": {
      "needs_background": "light"
     },
     "output_type": "display_data"
    }
   ],
   "source": [
    "\n",
    "plt.scatter(y=df['Time on Website'],x=df['Yearly Amount Spent'])"
   ]
  },
  {
   "cell_type": "code",
   "execution_count": 87,
   "id": "5f6f9cb1",
   "metadata": {},
   "outputs": [
    {
     "data": {
      "text/plain": [
       "<matplotlib.collections.PathCollection at 0x7fb0738ed550>"
      ]
     },
     "execution_count": 87,
     "metadata": {},
     "output_type": "execute_result"
    },
    {
     "data": {
      "image/png": "[encoded data removed]",
      "text/plain": [
       "<Figure size 432x288 with 1 Axes>"
      ]
     },
     "metadata": {
      "needs_background": "light"
     },
     "output_type": "display_data"
    }
   ],
   "source": [
    "\n",
    "plt.scatter(y=df['Time on App'],x=np.log(df['Yearly Amount Spent']),color = 'r')\n"
   ]
  },
  {
   "cell_type": "code",
   "execution_count": 10,
   "id": "3f9e7794",
   "metadata": {},
   "outputs": [],
   "source": [
    "# creating a model that fits the data\n",
    "from sklearn.linear_model import LinearRegression"
   ]
  },
  {
   "cell_type": "code",
   "execution_count": 11,
   "id": "0a0db286",
   "metadata": {},
   "outputs": [],
   "source": [
    "model = LinearRegression()\n"
   ]
  },
  {
   "cell_type": "markdown",
   "id": "759efd7b",
   "metadata": {},
   "source": [
    "\n",
    "### 1. preprocessing the data selecting the independent and dependent variables\n",
    "### 2. splitting dataset into train and validation and saving some data for testing"
   ]
  },
  {
   "cell_type": "code",
   "execution_count": 12,
   "id": "f631f22e",
   "metadata": {},
   "outputs": [],
   "source": [
    "xdf = df[['Time on Website','Length of Membership','Time on App','Avg. Session Length']]\n",
    "ydf = df[['Yearly Amount Spent']]"
   ]
  },
  {
   "cell_type": "code",
   "execution_count": 50,
   "id": "8e7b15a3",
   "metadata": {},
   "outputs": [],
   "source": [
    "# 10% for testing \n",
    "test = df.shape[0] * 10 / 100\n",
    "# 20% for validation\n",
    "val = df.shape[0] * 20 / 100\n",
    "\n",
    "# 70% for training\n",
    "train = df.shape[0] * 70 /100\n",
    "\n",
    "test,val,train\n",
    "\n",
    "x_test,y_test = xdf.loc[:test-1],ydf.loc[:test-1]\n",
    "x_val, y_val = xdf.loc[test:val+test-1],ydf.loc[test:val+test-1]\n",
    "x_train, y_train = xdf.loc[val+test:],ydf.loc[test+val:]"
   ]
  },
  {
   "cell_type": "markdown",
   "id": "a7c37682",
   "metadata": {},
   "source": [
    "TO split the data randomly sklearn has function \n",
    "\n",
    "**from sklearn.model_selection import train_test_split**\n",
    "\n",
    "    x_tr,x_te,y_tr,y_te=train_test_split(df,df['Yearly Amount Spent'],test_size=0.2random_state =3,shuffle=True)"
   ]
  },
  {
   "cell_type": "code",
   "execution_count": 14,
   "id": "eed39164",
   "metadata": {},
   "outputs": [
    {
     "data": {
      "text/html": [
       "<style>#sk-container-id-1 {color: black;background-color: white;}#sk-container-id-1 pre{padding: 0;}#sk-container-id-1 div.sk-toggleable {background-color: white;}#sk-container-id-1 label.sk-toggleable__label {cursor: pointer;display: block;width: 100%;margin-bottom: 0;padding: 0.3em;box-sizing: border-box;text-align: center;}#sk-container-id-1 label.sk-toggleable__label-arrow:before {content: \"▸\";float: left;margin-right: 0.25em;color: #696969;}#sk-container-id-1 label.sk-toggleable__label-arrow:hover:before {color: black;}#sk-container-id-1 div.sk-estimator:hover label.sk-toggleable__label-arrow:before {color: black;}#sk-container-id-1 div.sk-toggleable__content {max-height: 0;max-width: 0;overflow: hidden;text-align: left;background-color: #f0f8ff;}#sk-container-id-1 div.sk-toggleable__content pre {margin: 0.2em;color: black;border-radius: 0.25em;background-color: #f0f8ff;}#sk-container-id-1 input.sk-toggleable__control:checked~div.sk-toggleable__content {max-height: 200px;max-width: 100%;overflow: auto;}#sk-container-id-1 input.sk-toggleable__control:checked~label.sk-toggleable__label-arrow:before {content: \"▾\";}#sk-container-id-1 div.sk-estimator input.sk-toggleable__control:checked~label.sk-toggleable__label {background-color: #d4ebff;}#sk-container-id-1 div.sk-label input.sk-toggleable__control:checked~label.sk-toggleable__label {background-color: #d4ebff;}#sk-container-id-1 input.sk-hidden--visually {border: 0;clip: rect(1px 1px 1px 1px);clip: rect(1px, 1px, 1px, 1px);height: 1px;margin: -1px;overflow: hidden;padding: 0;position: absolute;width: 1px;}#sk-container-id-1 div.sk-estimator {font-family: monospace;background-color: #f0f8ff;border: 1px dotted black;border-radius: 0.25em;box-sizing: border-box;margin-bottom: 0.5em;}#sk-container-id-1 div.sk-estimator:hover {background-color: #d4ebff;}#sk-container-id-1 div.sk-parallel-item::after {content: \"\";width: 100%;border-bottom: 1px solid gray;flex-grow: 1;}#sk-container-id-1 div.sk-label:hover label.sk-toggleable__label {background-color: #d4ebff;}#sk-container-id-1 div.sk-serial::before {content: \"\";position: absolute;border-left: 1px solid gray;box-sizing: border-box;top: 0;bottom: 0;left: 50%;z-index: 0;}#sk-container-id-1 div.sk-serial {display: flex;flex-direction: column;align-items: center;background-color: white;padding-right: 0.2em;padding-left: 0.2em;position: relative;}#sk-container-id-1 div.sk-item {position: relative;z-index: 1;}#sk-container-id-1 div.sk-parallel {display: flex;align-items: stretch;justify-content: center;background-color: white;position: relative;}#sk-container-id-1 div.sk-item::before, #sk-container-id-1 div.sk-parallel-item::before {content: \"\";position: absolute;border-left: 1px solid gray;box-sizing: border-box;top: 0;bottom: 0;left: 50%;z-index: -1;}#sk-container-id-1 div.sk-parallel-item {display: flex;flex-direction: column;z-index: 1;position: relative;background-color: white;}#sk-container-id-1 div.sk-parallel-item:first-child::after {align-self: flex-end;width: 50%;}#sk-container-id-1 div.sk-parallel-item:last-child::after {align-self: flex-start;width: 50%;}#sk-container-id-1 div.sk-parallel-item:only-child::after {width: 0;}#sk-container-id-1 div.sk-dashed-wrapped {border: 1px dashed gray;margin: 0 0.4em 0.5em 0.4em;box-sizing: border-box;padding-bottom: 0.4em;background-color: white;}#sk-container-id-1 div.sk-label label {font-family: monospace;font-weight: bold;display: inline-block;line-height: 1.2em;}#sk-container-id-1 div.sk-label-container {text-align: center;}#sk-container-id-1 div.sk-container {/* jupyter's `normalize.less` sets `[hidden] { display: none; }` but bootstrap.min.css set `[hidden] { display: none !important; }` so we also need the `!important` here to be able to override the default hidden behavior on the sphinx rendered scikit-learn.org. See: https://github.com/scikit-learn/scikit-learn/issues/21755 */display: inline-block !important;position: relative;}#sk-container-id-1 div.sk-text-repr-fallback {display: none;}</style><div id=\"sk-container-id-1\" class=\"sk-top-container\"><div class=\"sk-text-repr-fallback\"><pre>LinearRegression()</pre><b>In a Jupyter environment, please rerun this cell to show the HTML representation or trust the notebook. <br />On GitHub, the HTML representation is unable to render, please try loading this page with nbviewer.org.</b></div><div class=\"sk-container\" hidden><div class=\"sk-item\"><div class=\"sk-estimator sk-toggleable\"><input class=\"sk-toggleable__control sk-hidden--visually\" id=\"sk-estimator-id-1\" type=\"checkbox\" checked><label for=\"sk-estimator-id-1\" class=\"sk-toggleable__label sk-toggleable__label-arrow\">LinearRegression</label><div class=\"sk-toggleable__content\"><pre>LinearRegression()</pre></div></div></div></div></div>"
      ],
      "text/plain": [
       "LinearRegression()"
      ]
     },
     "execution_count": 14,
     "metadata": {},
     "output_type": "execute_result"
    }
   ],
   "source": [
    "model.fit(x_train,y_train)"
   ]
  },
  {
   "cell_type": "code",
   "execution_count": 38,
   "id": "cb2aa9ee",
   "metadata": {
    "collapsed": true
   },
   "outputs": [
    {
     "data": {
      "text/plain": [
       "array([[37.78026469,  5.97676813, 13.85806246, 33.25633547],\n",
       "       [37.26687826,  2.95266896, 10.95679097, 33.90022441],\n",
       "       [37.4534051 ,  2.09489171, 10.32011626, 34.18777483],\n",
       "       [35.9334493 ,  3.85547168,  9.9845144 , 33.76206924],\n",
       "       [38.46832111,  2.87459691, 12.64519514, 34.39016366],\n",
       "       [35.25224202,  3.39205049, 11.58865542, 33.9252966 ],\n",
       "       [39.25293095,  2.99576118, 13.76153285, 32.6882293 ],\n",
       "       [36.17312563,  3.31522475, 10.56829469, 34.30187022],\n",
       "       [36.81401056,  3.47191914, 11.83228622, 32.84393022],\n",
       "       [37.27122169,  3.97055563, 12.06415663, 33.75499473],\n",
       "       [38.05260975,  4.63932033, 12.4955916 , 33.87978429],\n",
       "       [36.49399255,  5.08121009,  9.60731469, 33.07653561],\n",
       "       [37.99702801,  4.80263063, 13.72862718, 32.22729914],\n",
       "       [37.40874848,  3.41468842, 11.67006592, 32.78977262],\n",
       "       [36.60077705,  3.46229885, 13.27631301, 32.77260993],\n",
       "       [37.15762409,  5.37759358, 15.12699429, 34.37425805],\n",
       "       [35.35844431,  4.00178635, 12.69578975, 33.07871721],\n",
       "       [36.37506611,  3.43959056, 11.83547609, 32.8052204 ],\n",
       "       [37.68040323,  2.77952072, 11.30623234, 32.43075793],\n",
       "       [40.00518164,  3.55264977, 11.18753891, 32.17909997],\n",
       "       [36.2650007 ,  2.60228711, 11.88749413, 33.15417579],\n",
       "       [36.15719115,  4.69432227, 12.22893471, 34.33589584],\n",
       "       [38.00658318,  3.40152234, 10.67465347, 32.38625186],\n",
       "       [37.03153922,  3.8515788 , 12.81711309, 32.80869759],\n",
       "       [38.26035344,  3.25811288, 13.58780608, 33.87974497],\n",
       "       [38.73086174,  3.12056891, 12.23805735, 32.04983939],\n",
       "       [36.62883429,  2.83794316, 11.55182117, 33.55520742],\n",
       "       [35.89243163,  4.47028258, 11.43337993, 33.14207933],\n",
       "       [38.21257083,  4.44205433, 10.88956686, 32.59718266],\n",
       "       [36.91463331,  3.164944  , 11.92884209, 33.16713688],\n",
       "       [39.60037647,  3.75173455, 12.59567131, 31.51473786],\n",
       "       [35.88399439,  3.15975444, 10.94725858, 34.59402115],\n",
       "       [37.05891282,  4.13056281, 13.89808199, 33.50136982],\n",
       "       [37.78114256,  1.91408992, 10.87555955, 32.40237102],\n",
       "       [36.15725594,  4.3966519 , 10.3380727 , 34.65548568],\n",
       "       [36.18253928,  5.11331947, 11.63466822, 31.80930032],\n",
       "       [37.15192066,  2.66994162, 12.51766629, 33.8777793 ],\n",
       "       [36.81909551,  3.36646374, 10.60772387, 34.44787144],\n",
       "       [36.95161668,  4.57121302, 12.8288934 , 31.95630056],\n",
       "       [36.1050005 ,  3.91745112, 12.06881608, 32.60558364],\n",
       "       [37.8752191 ,  2.47613905, 12.53035737, 32.4914466 ],\n",
       "       [36.77312349,  4.12558436, 13.5162843 , 33.61601855],\n",
       "       [36.05024078,  3.99725538, 11.66226343, 33.47160053],\n",
       "       [37.72438616,  1.36267408, 13.66474788, 33.71065306],\n",
       "       [36.6338567 ,  4.19332464, 11.83023109, 32.1977238 ],\n",
       "       [38.63362565,  3.8710034 , 13.29114305, 32.46121245],\n",
       "       [38.06341359,  4.08180269, 11.94234087, 33.79038721],\n",
       "       [37.82739423,  4.25200611, 13.34991294, 34.18382052],\n",
       "       [39.07440021,  3.91170867, 12.02011209, 32.28866691],\n",
       "       [35.89035796,  3.02167182, 12.08409173, 33.82635201],\n",
       "       [35.99048895,  3.18461866, 13.41075918, 32.49839307],\n",
       "       [37.38531755,  2.87722488, 11.28193107, 31.8854063 ],\n",
       "       [37.58019043,  2.58696799, 11.44890154, 32.42569728],\n",
       "       [36.2620318 ,  2.96964023, 12.59542035, 33.43782956],\n",
       "       [38.07445242,  3.4288599 , 10.99422392, 31.38958548],\n",
       "       [35.84582711,  2.92694024, 13.08550576, 33.46869995],\n",
       "       [36.15246209,  3.78182304, 12.19047429, 32.2917561 ],\n",
       "       [37.71250864,  3.00474254, 10.71914974, 32.06377462],\n",
       "       [38.16643556,  3.85447386, 12.93155027, 33.1556997 ],\n",
       "       [38.50300885,  3.31882228, 13.45212896, 33.35687434],\n",
       "       [37.32533422,  3.36181462, 12.14937549, 31.8530748 ],\n",
       "       [37.71598618,  3.72256117, 12.17833133, 32.01230077],\n",
       "       [38.41504158,  3.54354705, 11.01048213, 32.38845163],\n",
       "       [37.30968877,  2.78946152, 11.60253219, 32.65318146],\n",
       "       [35.60082055,  5.48597673, 12.73221159, 32.93133644],\n",
       "       [37.69230086,  2.59418972, 11.22336889, 33.2356065 ],\n",
       "       [36.70105232,  2.75342417, 12.01102188, 33.9257949 ],\n",
       "       [35.9990993 ,  5.00482058, 11.7259101 , 33.05926409],\n",
       "       [38.3099079 ,  3.87333757, 12.08930957, 32.40173183],\n",
       "       [37.54052036,  3.79872532, 13.06863858, 33.88994101],\n",
       "       [35.00748226,  3.29279766, 12.85499037, 34.56938122],\n",
       "       [37.67321037,  4.71610499, 11.56402237, 33.7016052 ],\n",
       "       [37.38794554,  4.01872661, 11.1133299 , 33.26833022],\n",
       "       [36.54966799,  3.63770128, 12.80988347, 31.35847719],\n",
       "       [37.57016384,  3.83416967, 11.76117233, 33.01479222],\n",
       "       [37.09326487,  4.53198661, 12.57989417, 31.57613197],\n",
       "       [36.63465233,  4.10605515, 11.95792306, 32.65726859],\n",
       "       [37.14600653,  3.21826539, 10.65179378, 34.7093233 ],\n",
       "       [36.71413784,  3.28366346, 12.75207661, 34.53665918],\n",
       "       [37.52642103,  2.92402072, 11.54083244, 32.77171501],\n",
       "       [37.24503247,  3.90525031, 11.92439492, 33.70040046],\n",
       "       [38.94882503,  4.92031841, 12.42413041, 32.43977025],\n",
       "       [37.41413357,  2.47359612, 11.81058676, 34.312167  ],\n",
       "       [36.59911235,  4.13127665, 12.75916898, 32.45517629],\n",
       "       [37.42454792,  1.76773071, 11.85189083, 33.54097679],\n",
       "       [36.10091445,  2.7241082 , 12.70368793, 33.35839828],\n",
       "       [36.59436168,  3.89711586, 12.21525242, 32.68612926],\n",
       "       [36.49440648,  2.49167154, 11.281445  , 34.55829461],\n",
       "       [37.45837473,  3.86342544, 10.73536292, 33.54774794],\n",
       "       [37.32728269,  3.5786339 , 10.96313178, 31.95490386],\n",
       "       [36.59937399,  3.95889226, 11.73509455, 31.06621816],\n",
       "       [35.97765171,  3.25174177, 12.41896198, 31.85125313],\n",
       "       [35.7305524 ,  3.91438467, 10.53730754, 32.60928264],\n",
       "       [39.29404346,  1.44351507, 11.9192424 , 32.11511907],\n",
       "       [38.2747022 ,  2.91003792, 11.91141556, 33.92462481],\n",
       "       [36.51838359,  3.34557098, 12.488067  , 33.4771904 ],\n",
       "       [37.23200331,  3.08952778, 12.38069498, 32.11640012],\n",
       "       [37.33866962,  4.51412244, 10.48050683, 32.2559012 ],\n",
       "       [36.95155521,  1.82588467, 12.29651768, 32.69239222],\n",
       "       [36.58443762,  3.99365651, 10.8616042 , 32.38473266]])"
      ]
     },
     "execution_count": 38,
     "metadata": {},
     "output_type": "execute_result"
    }
   ],
   "source": [
    "x_val.to_numpy()"
   ]
  },
  {
   "cell_type": "code",
   "execution_count": 37,
   "id": "901d49ba",
   "metadata": {},
   "outputs": [
    {
     "name": "stderr",
     "output_type": "stream",
     "text": [
      "/home/azad/Desktop/jupyter/deep/lib/python3.8/site-packages/sklearn/base.py:450: UserWarning: X does not have valid feature names, but LinearRegression was fitted with feature names\n",
      "  warnings.warn(\n"
     ]
    }
   ],
   "source": [
    "y_pred = model.predict(x_val)\n"
   ]
  },
  {
   "cell_type": "code",
   "execution_count": 40,
   "id": "efd2503c",
   "metadata": {},
   "outputs": [
    {
     "data": {
      "text/plain": [
       "pandas.core.series.Series"
      ]
     },
     "execution_count": 40,
     "metadata": {},
     "output_type": "execute_result"
    }
   ],
   "source": [
    "type(y_val['Yearly Amount Spent'])"
   ]
  },
  {
   "cell_type": "code",
   "execution_count": 43,
   "id": "31eb3b0e",
   "metadata": {},
   "outputs": [],
   "source": [
    "y_val = y_val.to_numpy()"
   ]
  },
  {
   "cell_type": "code",
   "execution_count": 39,
   "id": "fe236d1f",
   "metadata": {},
   "outputs": [
    {
     "data": {
      "text/plain": [
       "numpy.ndarray"
      ]
     },
     "execution_count": 39,
     "metadata": {},
     "output_type": "execute_result"
    }
   ],
   "source": [
    "type(y_pred)"
   ]
  },
  {
   "cell_type": "code",
   "execution_count": 47,
   "id": "52c424d1",
   "metadata": {},
   "outputs": [],
   "source": [
    "def mse(target,pred):\n",
    "    return ((target-pred)**2).mean()"
   ]
  },
  {
   "cell_type": "code",
   "execution_count": 69,
   "id": "163133fc",
   "metadata": {},
   "outputs": [
    {
     "data": {
      "text/plain": [
       "Yearly Amount Spent    0.000443\n",
       "dtype: float64"
      ]
     },
     "execution_count": 69,
     "metadata": {},
     "output_type": "execute_result"
    }
   ],
   "source": [
    "error = mse(np.log(y_pred),np.log(df.loc[test:val+test-1,['Yearly Amount Spent']]))\n",
    "error"
   ]
  },
  {
   "cell_type": "code",
   "execution_count": 56,
   "id": "bd1070fb",
   "metadata": {},
   "outputs": [
    {
     "data": {
      "text/plain": [
       "0.981796546481086"
      ]
     },
     "execution_count": 56,
     "metadata": {},
     "output_type": "execute_result"
    }
   ],
   "source": [
    "model.score(x_test,y_test)"
   ]
  },
  {
   "cell_type": "code",
   "execution_count": 91,
   "id": "8daa0c7e",
   "metadata": {},
   "outputs": [],
   "source": [
    "from sklearn.metrics import mean_squared_error, mean_absolute_error, r2_score\n",
    "# mean_squared_error??"
   ]
  },
  {
   "cell_type": "markdown",
   "id": "5ec8db85",
   "metadata": {},
   "source": [
    "# r2_score\n",
    "R squared\t0-1 (larger is better)\t\n",
    "\n",
    "    The proportion of the variance in the predicted variable (y) that can be explained by the features (X)"
   ]
  },
  {
   "cell_type": "code",
   "execution_count": 92,
   "id": "ad27cfca",
   "metadata": {},
   "outputs": [
    {
     "data": {
      "text/plain": [
       "0.977565023978906"
      ]
     },
     "execution_count": 92,
     "metadata": {},
     "output_type": "execute_result"
    }
   ],
   "source": [
    "r2 = r2_score(np.log(y_pred),np.log(df.loc[test:val+test-1,['Yearly Amount Spent']]))\n",
    "r2"
   ]
  },
  {
   "cell_type": "code",
   "execution_count": 74,
   "id": "63f2604d",
   "metadata": {},
   "outputs": [
    {
     "data": {
      "text/plain": [
       "0.016274112734019786"
      ]
     },
     "execution_count": 74,
     "metadata": {},
     "output_type": "execute_result"
    }
   ],
   "source": [
    "mae = mean_absolute_error(np.log(y_pred),np.log(df.loc[test:val+test-1,['Yearly Amount Spent']]))\n",
    "mae"
   ]
  },
  {
   "cell_type": "code",
   "execution_count": 75,
   "id": "b1b1994e",
   "metadata": {},
   "outputs": [],
   "source": [
    "def mymae(target,pred):\n",
    "    return (abs(target-pred)).mean()"
   ]
  },
  {
   "cell_type": "code",
   "execution_count": 76,
   "id": "a53e81ab",
   "metadata": {},
   "outputs": [
    {
     "data": {
      "text/plain": [
       "Yearly Amount Spent    0.016274\n",
       "dtype: float64"
      ]
     },
     "execution_count": 76,
     "metadata": {},
     "output_type": "execute_result"
    }
   ],
   "source": [
    "mae = mymae(np.log(y_pred),np.log(df.loc[test:val+test-1,['Yearly Amount Spent']]))\n",
    "mae"
   ]
  },
  {
   "cell_type": "code",
   "execution_count": 77,
   "id": "2add6ce0",
   "metadata": {},
   "outputs": [
    {
     "data": {
      "text/plain": [
       "0.02103652380799389"
      ]
     },
     "execution_count": 77,
     "metadata": {},
     "output_type": "execute_result"
    }
   ],
   "source": [
    "error = mean_squared_error(np.log(y_pred),np.log(df.loc[test:val+test-1,['Yearly Amount Spent']]),squared=False)\n",
    "error"
   ]
  },
  {
   "cell_type": "code",
   "execution_count": 83,
   "id": "ac5e1835",
   "metadata": {},
   "outputs": [],
   "source": [
    "def rmse(target,pred):\n",
    "    return np.sqrt(((target-pred)**2).mean())"
   ]
  },
  {
   "cell_type": "code",
   "execution_count": 84,
   "id": "13f3d4d0",
   "metadata": {},
   "outputs": [
    {
     "data": {
      "text/plain": [
       "Yearly Amount Spent    0.021037\n",
       "dtype: float64"
      ]
     },
     "execution_count": 84,
     "metadata": {},
     "output_type": "execute_result"
    }
   ],
   "source": [
    "rmse = rmse(np.log(y_pred),np.log(df.loc[test:val+test-1,['Yearly Amount Spent']]))\n",
    "rmse"
   ]
  },
  {
   "cell_type": "code",
   "execution_count": 63,
   "id": "5bf17593",
   "metadata": {},
   "outputs": [],
   "source": [
    "import numpy as np"
   ]
  },
  {
   "cell_type": "code",
   "execution_count": 68,
   "id": "7c8b6a42",
   "metadata": {},
   "outputs": [
    {
     "data": {
      "text/plain": [
       "0.00044253533392429374"
      ]
     },
     "execution_count": 68,
     "metadata": {},
     "output_type": "execute_result"
    }
   ],
   "source": [
    "error = mean_squared_error(np.log(y_pred),np.log(df.loc[test:val+test-1,['Yearly Amount Spent']]))\n",
    "error"
   ]
  },
  {
   "cell_type": "code",
   "execution_count": 88,
   "id": "689543ba",
   "metadata": {},
   "outputs": [
    {
     "data": {
      "text/html": [
       "<div>\n",
       "<style scoped>\n",
       "    .dataframe tbody tr th:only-of-type {\n",
       "        vertical-align: middle;\n",
       "    }\n",
       "\n",
       "    .dataframe tbody tr th {\n",
       "        vertical-align: top;\n",
       "    }\n",
       "\n",
       "    .dataframe thead th {\n",
       "        text-align: right;\n",
       "    }\n",
       "</style>\n",
       "<table border=\"1\" class=\"dataframe\">\n",
       "  <thead>\n",
       "    <tr style=\"text-align: right;\">\n",
       "      <th></th>\n",
       "      <th>Avg. Session Length</th>\n",
       "      <th>Time on App</th>\n",
       "      <th>Time on Website</th>\n",
       "      <th>Length of Membership</th>\n",
       "      <th>Yearly Amount Spent</th>\n",
       "    </tr>\n",
       "  </thead>\n",
       "  <tbody>\n",
       "    <tr>\n",
       "      <th>Avg. Session Length</th>\n",
       "      <td>1.000000</td>\n",
       "      <td>-0.027826</td>\n",
       "      <td>-0.034987</td>\n",
       "      <td>0.060247</td>\n",
       "      <td>0.355088</td>\n",
       "    </tr>\n",
       "    <tr>\n",
       "      <th>Time on App</th>\n",
       "      <td>-0.027826</td>\n",
       "      <td>1.000000</td>\n",
       "      <td>0.082388</td>\n",
       "      <td>0.029143</td>\n",
       "      <td>0.499328</td>\n",
       "    </tr>\n",
       "    <tr>\n",
       "      <th>Time on Website</th>\n",
       "      <td>-0.034987</td>\n",
       "      <td>0.082388</td>\n",
       "      <td>1.000000</td>\n",
       "      <td>-0.047582</td>\n",
       "      <td>-0.002641</td>\n",
       "    </tr>\n",
       "    <tr>\n",
       "      <th>Length of Membership</th>\n",
       "      <td>0.060247</td>\n",
       "      <td>0.029143</td>\n",
       "      <td>-0.047582</td>\n",
       "      <td>1.000000</td>\n",
       "      <td>0.809084</td>\n",
       "    </tr>\n",
       "    <tr>\n",
       "      <th>Yearly Amount Spent</th>\n",
       "      <td>0.355088</td>\n",
       "      <td>0.499328</td>\n",
       "      <td>-0.002641</td>\n",
       "      <td>0.809084</td>\n",
       "      <td>1.000000</td>\n",
       "    </tr>\n",
       "  </tbody>\n",
       "</table>\n",
       "</div>"
      ],
      "text/plain": [
       "                      Avg. Session Length  Time on App  Time on Website  \\\n",
       "Avg. Session Length              1.000000    -0.027826        -0.034987   \n",
       "Time on App                     -0.027826     1.000000         0.082388   \n",
       "Time on Website                 -0.034987     0.082388         1.000000   \n",
       "Length of Membership             0.060247     0.029143        -0.047582   \n",
       "Yearly Amount Spent              0.355088     0.499328        -0.002641   \n",
       "\n",
       "                      Length of Membership  Yearly Amount Spent  \n",
       "Avg. Session Length               0.060247             0.355088  \n",
       "Time on App                       0.029143             0.499328  \n",
       "Time on Website                  -0.047582            -0.002641  \n",
       "Length of Membership              1.000000             0.809084  \n",
       "Yearly Amount Spent               0.809084             1.000000  "
      ]
     },
     "execution_count": 88,
     "metadata": {},
     "output_type": "execute_result"
    }
   ],
   "source": [
    "df.corr()"
   ]
  },
  {
   "cell_type": "markdown",
   "id": "b75f7e57",
   "metadata": {},
   "source": [
    "THERE IS STRONG POSITIVE CORRELATION BETWEEN Yearly amount AND Length of the membership\n",
    "\n",
    "THE time on app has more positive correlation that time on website there for decide to focus company efforts on its mobile app experience "
   ]
  },
  {
   "cell_type": "markdown",
   "id": "8c33c657",
   "metadata": {},
   "source": [
    "The model has two attributes:\n",
    "\n",
    "1. model.coef_ which stores an array of the coefficients of our model\n",
    "2. model.intercept_ which stores the y-intercept of our linear model"
   ]
  },
  {
   "cell_type": "code",
   "execution_count": 95,
   "id": "6a15ca58",
   "metadata": {},
   "outputs": [
    {
     "data": {
      "text/plain": [
       "array([[ 0.78877397, 61.94307598, 38.61989619, 25.95177257]])"
      ]
     },
     "execution_count": 95,
     "metadata": {},
     "output_type": "execute_result"
    }
   ],
   "source": [
    "model.coef_"
   ]
  },
  {
   "cell_type": "markdown",
   "id": "733ec07e",
   "metadata": {},
   "source": [
    "[reference](https://datagy.io/python-sklearn-linear-regression/) "
   ]
  },
  {
   "cell_type": "code",
   "execution_count": null,
   "id": "276d5df4",
   "metadata": {},
   "outputs": [],
   "source": [
    "x = df.loc[:4,['Avg. Session Length','Time on App']]\n",
    "x"
   ]
  },
  {
   "cell_type": "code",
   "execution_count": null,
   "id": "25703525",
   "metadata": {},
   "outputs": [],
   "source": [
    "# code to join columns\n",
    "xx = df.loc[1:5,['Time on Website','Length of Membership','Time on App']]\n",
    "xx"
   ]
  },
  {
   "cell_type": "code",
   "execution_count": null,
   "id": "8f8d469a",
   "metadata": {},
   "outputs": [],
   "source": [
    "# pd.merge(xx,x,left_index = True, right_index = True)\n",
    "#merge default is inner join\n",
    "# x.merge(xx,how='outer',left_index = True, right_index = True)\n",
    "# x.merge(xx,left_on='Time on App',right_on = 'Time on App',how = 'left')"
   ]
  },
  {
   "cell_type": "code",
   "execution_count": null,
   "id": "ae02cc42",
   "metadata": {},
   "outputs": [],
   "source": [
    "x = x.join(xx)#join is default left join\n",
    "x"
   ]
  },
  {
   "cell_type": "code",
   "execution_count": null,
   "id": "ccab7067",
   "metadata": {},
   "outputs": [],
   "source": []
  }
 ],
 "metadata": {
  "kernelspec": {
   "display_name": "Python 3 (ipykernel)",
   "language": "python",
   "name": "python3"
  },
  "language_info": {
   "codemirror_mode": {
    "name": "ipython",
    "version": 3
   },
   "file_extension": ".py",
   "mimetype": "text/x-python",
   "name": "python",
   "nbconvert_exporter": "python",
   "pygments_lexer": "ipython3",
   "version": "3.8.10"
  }
 },
 "nbformat": 4,
 "nbformat_minor": 5
}
